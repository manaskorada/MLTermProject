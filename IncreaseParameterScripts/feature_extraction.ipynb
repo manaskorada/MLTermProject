{
  "nbformat": 4,
  "nbformat_minor": 0,
  "metadata": {
    "colab": {
      "provenance": [],
      "gpuType": "A100",
      "machine_shape": "hm"
    },
    "kernelspec": {
      "name": "python3",
      "display_name": "Python 3"
    },
    "language_info": {
      "name": "python"
    },
    "accelerator": "GPU"
  },
  "cells": [
    {
      "cell_type": "code",
      "source": [
        "import torch\n",
        "print(\"CUDA available?\", torch.cuda.is_available())\n",
        "print(\"Device name:\", torch.cuda.get_device_name(0))\n",
        "\n",
        "import torch\n",
        "print(torch.cuda.get_device_name(0))\n"
      ],
      "metadata": {
        "colab": {
          "base_uri": "https://localhost:8080/"
        },
        "id": "6JGPkrlbMoM5",
        "outputId": "5abb3391-32e7-493c-a5cf-478d9eb3ab73"
      },
      "execution_count": null,
      "outputs": [
        {
          "output_type": "stream",
          "name": "stdout",
          "text": [
            "CUDA available? True\n",
            "Device name: NVIDIA A100-SXM4-40GB\n",
            "NVIDIA A100-SXM4-40GB\n"
          ]
        }
      ]
    },
    {
      "cell_type": "code",
      "source": [
        "# 1) Install kaggle, prompt for API token\n",
        "!pip install --quiet kaggle\n",
        "\n",
        "import os\n",
        "if not os.path.exists('/root/.kaggle/kaggle.json'):\n",
        "    from google.colab import files\n",
        "    print(\"Please upload your kaggle.json API token:\")\n",
        "    files.upload()  # upload your kaggle.json here\n",
        "\n",
        "# 2) Move token into place\n",
        "os.makedirs('/root/.kaggle', exist_ok=True)\n",
        "!cp kaggle.json /root/.kaggle/\n",
        "!chmod 600 /root/.kaggle/kaggle.json\n",
        "\n",
        "# 3) Download only train.csv and test.csv from the AG‑News dataset\n",
        "!kaggle datasets download -d amananandrai/ag-news-classification-dataset --quiet\n",
        "!unzip -o ag-news-classification-dataset.zip\n"
      ],
      "metadata": {
        "colab": {
          "base_uri": "https://localhost:8080/"
        },
        "id": "w5kJRXAuI060",
        "outputId": "59e995c9-121a-49e1-d476-da6e2881b89f"
      },
      "execution_count": null,
      "outputs": [
        {
          "output_type": "stream",
          "name": "stdout",
          "text": [
            "Dataset URL: https://www.kaggle.com/datasets/amananandrai/ag-news-classification-dataset\n",
            "License(s): unknown\n",
            "Archive:  ag-news-classification-dataset.zip\n",
            "  inflating: test.csv                \n",
            "  inflating: train.csv               \n",
            "-rw-r--r-- 1 root root 1.8M Apr 20  2020 test.csv\n",
            "-rw-r--r-- 1 root root  28M Apr 20  2020 train.csv\n"
          ]
        }
      ]
    },
    {
      "cell_type": "code",
      "source": [
        "!pip install --upgrade pip --quiet\n",
        "!pip install --quiet transformers torch scikit-learn huggingface_hub[hf_ext] ipywidgets\n",
        "!jupyter nbextension enable --py widgetsnbextension --sys-prefix\n"
      ],
      "metadata": {
        "colab": {
          "base_uri": "https://localhost:8080/"
        },
        "id": "TA-ulmqLI0r9",
        "outputId": "d8281ac4-619b-42e7-be42-1d9ea8207a37"
      },
      "execution_count": null,
      "outputs": [
        {
          "output_type": "stream",
          "name": "stdout",
          "text": [
            "\u001b[33mWARNING: huggingface-hub 0.30.2 does not provide the extra 'hf-ext'\u001b[0m\u001b[33m\n",
            "\u001b[0mEnabling notebook extension jupyter-js-widgets/extension...\n",
            "Paths used for configuration of notebook: \n",
            "    \t/usr/etc/jupyter/nbconfig/notebook.json\n",
            "Paths used for configuration of notebook: \n",
            "    \t\n",
            "      - Validating: \u001b[32mOK\u001b[0m\n",
            "Paths used for configuration of notebook: \n",
            "    \t/usr/etc/jupyter/nbconfig/notebook.json\n"
          ]
        }
      ]
    },
    {
      "cell_type": "code",
      "execution_count": null,
      "metadata": {
        "id": "vwMeOqmLDNWP"
      },
      "outputs": [],
      "source": [
        "import os\n",
        "os.environ['TRANSFORMERS_NO_TQDM'] = '1'\n",
        "\n",
        "import pickle\n",
        "import pandas as pd\n",
        "from sklearn.feature_extraction.text import TfidfVectorizer\n",
        "from transformers import pipeline\n"
      ]
    },
    {
      "cell_type": "code",
      "source": [
        "# — USER PARAMETERS & IMPORTS —\n",
        "input_csv = 'test.csv'           # or 'test.csv'\n",
        "output_csv = 'test_features.csv' # final output\n",
        "n_tfidf = 5\n",
        "tfidf_vectorizer_path = 'tfidf_vectorizer.pkl'\n",
        "MAX_VOCAB_SIZE = 20000\n",
        "ZS_BATCH_SIZE = 16\n",
        "candidate_labels = [\"World\", \"Sports\", \"Business\", \"Sci/Tech\"]\n",
        "\n",
        "import os, pickle\n",
        "import pandas as pd\n",
        "from sklearn.feature_extraction.text import TfidfVectorizer\n",
        "\n",
        "# — 1) LOAD & RENAME —\n",
        "df = pd.read_csv(input_csv)\n",
        "df.rename(columns={\n",
        "    'Class Index': 'label',\n",
        "    'Title'      : 'title',\n",
        "    'Description': 'description'\n",
        "}, inplace=True)\n",
        "df['text'] = df['title'].fillna('') + ' ' + df['description'].fillna('')\n",
        "\n",
        "# — 2) “Easy” feature: uppercase count —\n",
        "df['uppercase_char_count'] = df['title'].apply(\n",
        "    lambda s: sum(1 for c in s if c.isupper())\n",
        ")\n",
        "\n",
        "print(\"Step 1 complete — df has columns:\", df.columns.tolist())\n",
        "# You can peek at df.head() or even save an intermediate if you like:\n",
        "# df.to_pickle('step1_df.pkl')\n",
        "\n"
      ],
      "metadata": {
        "id": "06Zm85DjFKlo",
        "colab": {
          "base_uri": "https://localhost:8080/"
        },
        "outputId": "afc43ca6-e462-46bc-c06a-e9c1b07250bf"
      },
      "execution_count": null,
      "outputs": [
        {
          "output_type": "stream",
          "name": "stdout",
          "text": [
            "Step 1 complete — df has columns: ['label', 'title', 'description', 'text', 'uppercase_char_count']\n"
          ]
        }
      ]
    },
    {
      "cell_type": "code",
      "source": [
        "# — 3) TF‑IDF top‑N keywords —\n",
        "if os.path.exists(tfidf_vectorizer_path):\n",
        "    with open(tfidf_vectorizer_path, 'rb') as f:\n",
        "        vectorizer = pickle.load(f)\n",
        "    tfidf_matrix = vectorizer.transform(df['text'])\n",
        "else:\n",
        "    vectorizer = TfidfVectorizer(max_features=MAX_VOCAB_SIZE)\n",
        "    tfidf_matrix = vectorizer.fit_transform(df['text'])\n",
        "    with open(tfidf_vectorizer_path, 'wb') as f:\n",
        "        pickle.dump(vectorizer, f)\n",
        "\n",
        "feature_names = vectorizer.get_feature_names_out()\n",
        "def top_n_keywords(idx):\n",
        "    row = tfidf_matrix[idx].toarray().flatten()\n",
        "    top_inds = row.argsort()[-n_tfidf:][::-1]\n",
        "    return [feature_names[i] for i in top_inds]\n",
        "\n",
        "df['tfidf_top_keywords'] = [top_n_keywords(i) for i in range(len(df))]\n",
        "\n",
        "print(\"Step 2 complete — added tfidf_top_keywords\")\n",
        "# Optional: save again if you want to checkpoint\n",
        "# df.to_pickle('step2_df.pkl')\n"
      ],
      "metadata": {
        "id": "rN6JzuPVGWMq",
        "colab": {
          "base_uri": "https://localhost:8080/"
        },
        "outputId": "946b971e-c5f5-4cfb-c167-a3b2cffed8d4"
      },
      "execution_count": null,
      "outputs": [
        {
          "output_type": "stream",
          "name": "stdout",
          "text": [
            "Step 2 complete — added tfidf_top_keywords\n"
          ]
        }
      ]
    },
    {
      "cell_type": "code",
      "source": [
        "from transformers import pipeline\n",
        "\n",
        "# — 4) Batched zero‑shot topic scoring on GPU —\n",
        "classifier = pipeline(\n",
        "    'zero-shot-classification',\n",
        "    model='facebook/bart-large-mnli',\n",
        "    framework='pt',\n",
        "    device=0,\n",
        "    batch_size=ZS_BATCH_SIZE\n",
        ")\n",
        "\n",
        "outs = classifier(df['text'].tolist(), candidate_labels)\n",
        "topic_df = pd.DataFrame([dict(zip(o['labels'], o['scores'])) for o in outs])\n",
        "df = pd.concat([df, topic_df], axis=1)\n",
        "\n",
        "# — 5) SAVE —\n",
        "df.to_csv(output_csv, index=False)\n",
        "print(f\"All done — saved features to {output_csv}\")\n"
      ],
      "metadata": {
        "colab": {
          "base_uri": "https://localhost:8080/"
        },
        "id": "KeF8lC9B0HWk",
        "outputId": "fcf19480-abae-4476-d1e7-82bccdb335fc"
      },
      "execution_count": null,
      "outputs": [
        {
          "output_type": "stream",
          "name": "stderr",
          "text": [
            "Device set to use cuda:0\n"
          ]
        },
        {
          "output_type": "stream",
          "name": "stdout",
          "text": [
            "✅ All done — saved features to test_features.csv\n"
          ]
        }
      ]
    },
    {
      "cell_type": "code",
      "source": [
        "from google.colab import files\n",
        "files.download('test_features.csv')\n"
      ],
      "metadata": {
        "colab": {
          "base_uri": "https://localhost:8080/",
          "height": 17
        },
        "id": "JY5dLyM-TEup",
        "outputId": "ee332651-0997-4a47-bdb4-032845268405"
      },
      "execution_count": null,
      "outputs": [
        {
          "output_type": "display_data",
          "data": {
            "text/plain": [
              "<IPython.core.display.Javascript object>"
            ],
            "application/javascript": [
              "\n",
              "    async function download(id, filename, size) {\n",
              "      if (!google.colab.kernel.accessAllowed) {\n",
              "        return;\n",
              "      }\n",
              "      const div = document.createElement('div');\n",
              "      const label = document.createElement('label');\n",
              "      label.textContent = `Downloading \"${filename}\": `;\n",
              "      div.appendChild(label);\n",
              "      const progress = document.createElement('progress');\n",
              "      progress.max = size;\n",
              "      div.appendChild(progress);\n",
              "      document.body.appendChild(div);\n",
              "\n",
              "      const buffers = [];\n",
              "      let downloaded = 0;\n",
              "\n",
              "      const channel = await google.colab.kernel.comms.open(id);\n",
              "      // Send a message to notify the kernel that we're ready.\n",
              "      channel.send({})\n",
              "\n",
              "      for await (const message of channel.messages) {\n",
              "        // Send a message to notify the kernel that we're ready.\n",
              "        channel.send({})\n",
              "        if (message.buffers) {\n",
              "          for (const buffer of message.buffers) {\n",
              "            buffers.push(buffer);\n",
              "            downloaded += buffer.byteLength;\n",
              "            progress.value = downloaded;\n",
              "          }\n",
              "        }\n",
              "      }\n",
              "      const blob = new Blob(buffers, {type: 'application/binary'});\n",
              "      const a = document.createElement('a');\n",
              "      a.href = window.URL.createObjectURL(blob);\n",
              "      a.download = filename;\n",
              "      div.appendChild(a);\n",
              "      a.click();\n",
              "      div.remove();\n",
              "    }\n",
              "  "
            ]
          },
          "metadata": {}
        },
        {
          "output_type": "display_data",
          "data": {
            "text/plain": [
              "<IPython.core.display.Javascript object>"
            ],
            "application/javascript": [
              "download(\"download_9b093915-4d1a-43f3-a524-54a616c68061\", \"test_features.csv\", 4660327)"
            ]
          },
          "metadata": {}
        }
      ]
    },
    {
      "cell_type": "code",
      "source": [],
      "metadata": {
        "id": "BN2cBxCzTFS5"
      },
      "execution_count": null,
      "outputs": []
    }
  ]
}