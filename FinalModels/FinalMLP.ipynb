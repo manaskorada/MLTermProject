{
  "nbformat": 4,
  "nbformat_minor": 0,
  "metadata": {
    "colab": {
      "provenance": [],
      "gpuType": "T4"
    },
    "kernelspec": {
      "name": "python3",
      "display_name": "Python 3"
    },
    "language_info": {
      "name": "python"
    },
    "accelerator": "GPU"
  },
  "cells": [
    {
      "cell_type": "code",
      "execution_count": 21,
      "metadata": {
        "id": "n4UMik3QruB1"
      },
      "outputs": [],
      "source": [
        "# Install any necessary dependencies\n",
        "import torch\n",
        "import torch.nn as nn\n",
        "import torch.optim as optim\n",
        "from torch.utils.data import Dataset, DataLoader, TensorDataset\n",
        "from sklearn.preprocessing import StandardScaler\n",
        "from sklearn.feature_extraction.text import TfidfVectorizer\n",
        "from sklearn.model_selection import train_test_split\n",
        "import pandas as pd\n",
        "import numpy as np\n",
        "from sklearn.metrics import accuracy_score, precision_recall_fscore_support"
      ]
    },
    {
      "cell_type": "code",
      "source": [
        "# 1. Load Data and Features\n",
        "\n",
        "def load_data():\n",
        "    train_df = pd.read_csv('/content/FINALtrainUpdated.csv')\n",
        "    test_df = pd.read_csv('/content/FINALtestUpdated.csv')\n",
        "\n",
        "    # Combine Title and Description for TF-IDF\n",
        "    train_text = train_df['Title'] + ' ' + train_df['Description']\n",
        "    test_text = test_df['Title'] + ' ' + test_df['Description']\n",
        "\n",
        "    # Labels: convert from 1-4 to 0-3\n",
        "    train_labels = train_df['Class Index'] - 1\n",
        "    test_labels = test_df['Class Index'] - 1\n",
        "\n",
        "    # Select numerical features (excluding TFIDFTopWords)\n",
        "    feature_cols = [\n",
        "        'DescNamedEntityCount', 'TitleDescSimilarity', 'AvgTitleWordLength',\n",
        "        'TitleWordCount', 'TitleCharCount', 'DescAvgWordLength', 'DescWordCount',\n",
        "        'DescCharCount', 'TitleNegSentiment', 'TitleNeuSentiment', 'TitlePosSentiment',\n",
        "        'TitleCompoundSentiment', 'DescNegSentiment', 'DescNeuSentiment',\n",
        "        'DescPosSentiment', 'DescCompoundSentiment', 'UppercaseWordCount',\n",
        "        'ZeroShotScoreBusiness', 'ZeroShotScoreWorld', 'ZeroShotScoreSci/Tech', 'ZeroShotScoreSports'\n",
        "    ]\n",
        "\n",
        "    train_feats = train_df[feature_cols].values\n",
        "    test_feats = test_df[feature_cols].values\n",
        "\n",
        "    return train_text, train_feats, train_labels, test_text, test_feats, test_labels\n",
        "\n",
        "train_texts, train_feats, train_labels, test_texts, test_feats, test_labels = load_data()"
      ],
      "metadata": {
        "id": "yRUqbaussXmK"
      },
      "execution_count": 22,
      "outputs": []
    },
    {
      "cell_type": "code",
      "source": [
        "# 2. TF-IDF Vectorization\n",
        "\n",
        "vectorizer = TfidfVectorizer(max_features=1500) #reduced max features\n",
        "X_train_tfidf = vectorizer.fit_transform(train_texts).toarray()\n",
        "X_test_tfidf = vectorizer.transform(test_texts).toarray()\n",
        "\n"
      ],
      "metadata": {
        "id": "Ha_pjtJwswPd"
      },
      "execution_count": 23,
      "outputs": []
    },
    {
      "cell_type": "code",
      "source": [
        "# 3. Combine Features\n",
        "\n",
        "X_train_combined = np.concatenate([X_train_tfidf, train_feats], axis=1)\n",
        "X_test_combined = np.concatenate([X_test_tfidf, test_feats], axis=1)\n",
        "\n",
        "# Convert to tensors\n",
        "X_train_tensor = torch.tensor(X_train_combined, dtype=torch.float32)\n",
        "X_test_tensor = torch.tensor(X_test_combined, dtype=torch.float32)\n",
        "y_train_tensor = torch.tensor(train_labels.values, dtype=torch.long)\n",
        "y_test_tensor = torch.tensor(test_labels.values, dtype=torch.long)"
      ],
      "metadata": {
        "id": "vEGf0DKos7-V"
      },
      "execution_count": 24,
      "outputs": []
    },
    {
      "cell_type": "code",
      "source": [
        "# 4. Create PyTorch Dataset\n",
        "\n",
        "class NewsDataset(Dataset):\n",
        "    def __init__(self, X, y):\n",
        "        self.X = X\n",
        "        self.y = y\n",
        "\n",
        "    def __len__(self):\n",
        "        return len(self.y)\n",
        "\n",
        "    def __getitem__(self, idx):\n",
        "        return self.X[idx], self.y[idx]\n",
        "\n",
        "train_loader = DataLoader(NewsDataset(X_train_tensor, y_train_tensor), batch_size=64, shuffle=True)\n",
        "test_loader = DataLoader(NewsDataset(X_test_tensor, y_test_tensor), batch_size=64, shuffle=False)"
      ],
      "metadata": {
        "id": "C1dDL6zpvFBB"
      },
      "execution_count": 25,
      "outputs": []
    },
    {
      "cell_type": "code",
      "source": [
        "# 5. Define MLP Model\n",
        "\n",
        "class MLPClassifier(nn.Module):\n",
        "    def __init__(self, input_size, hidden_size=512, num_classes=4):\n",
        "        super(MLPClassifier, self).__init__()\n",
        "        self.fc1 = nn.Linear(input_size, hidden_size)\n",
        "        self.relu1 = nn.ReLU()\n",
        "        self.dropout = nn.Dropout(0.3)\n",
        "        self.fc2 = nn.Linear(hidden_size, hidden_size // 2)\n",
        "        self.relu2 = nn.ReLU()\n",
        "        self.fc3 = nn.Linear(hidden_size // 2, num_classes)\n",
        "\n",
        "    def forward(self, x):\n",
        "        x = self.relu1(self.fc1(x))\n",
        "        x = self.dropout(x)\n",
        "        x = self.relu2(self.fc2(x))\n",
        "        x = self.fc3(x)\n",
        "        return x\n",
        "\n",
        "input_size = X_train_tensor.shape[1]\n",
        "model = MLPClassifier(input_size)"
      ],
      "metadata": {
        "id": "3DPX1s7zvStK"
      },
      "execution_count": 26,
      "outputs": []
    },
    {
      "cell_type": "code",
      "source": [
        "# 6. Train the Model\n",
        "\n",
        "criterion = nn.CrossEntropyLoss()\n",
        "optimizer = optim.Adam(model.parameters(), lr=0.0005)\n",
        "\n",
        "def train_model(model, train_loader, epochs=20):\n",
        "    model.train()\n",
        "    for epoch in range(epochs):\n",
        "        total_loss = 0\n",
        "        for X_batch, y_batch in train_loader:\n",
        "            optimizer.zero_grad()\n",
        "            outputs = model(X_batch)\n",
        "            loss = criterion(outputs, y_batch)\n",
        "            loss.backward()\n",
        "            optimizer.step()\n",
        "            total_loss += loss.item()\n",
        "        print(f\"Epoch {epoch+1}, Loss: {total_loss/len(train_loader):.4f}\")\n",
        "\n",
        "train_model(model, train_loader)"
      ],
      "metadata": {
        "colab": {
          "base_uri": "https://localhost:8080/"
        },
        "id": "BTtMvbTFvZmT",
        "outputId": "59f75e5b-b232-424e-add3-7e39d383f931"
      },
      "execution_count": 27,
      "outputs": [
        {
          "output_type": "stream",
          "name": "stdout",
          "text": [
            "Epoch 1, Loss: 0.5073\n",
            "Epoch 2, Loss: 0.3255\n",
            "Epoch 3, Loss: 0.3104\n",
            "Epoch 4, Loss: 0.2983\n",
            "Epoch 5, Loss: 0.2895\n",
            "Epoch 6, Loss: 0.2826\n",
            "Epoch 7, Loss: 0.2781\n",
            "Epoch 8, Loss: 0.2750\n",
            "Epoch 9, Loss: 0.2725\n",
            "Epoch 10, Loss: 0.2670\n",
            "Epoch 11, Loss: 0.2642\n",
            "Epoch 12, Loss: 0.2642\n",
            "Epoch 13, Loss: 0.2580\n",
            "Epoch 14, Loss: 0.2573\n",
            "Epoch 15, Loss: 0.2538\n",
            "Epoch 16, Loss: 0.2515\n",
            "Epoch 17, Loss: 0.2535\n",
            "Epoch 18, Loss: 0.2512\n",
            "Epoch 19, Loss: 0.2440\n",
            "Epoch 20, Loss: 0.2430\n"
          ]
        }
      ]
    },
    {
      "cell_type": "code",
      "source": [
        "# 7. Evaluate the Model\n",
        "\n",
        "def evaluate_model(model, test_loader):\n",
        "    model.eval()\n",
        "    all_preds = []\n",
        "    all_labels = []\n",
        "\n",
        "    with torch.no_grad():\n",
        "        for X_batch, y_batch in test_loader:\n",
        "            outputs = model(X_batch)\n",
        "            _, predicted = torch.max(outputs, 1)\n",
        "            all_preds.extend(predicted.cpu().numpy())\n",
        "            all_labels.extend(y_batch.cpu().numpy())\n",
        "\n",
        "    accuracy = accuracy_score(all_labels, all_preds)\n",
        "    precision, recall, f1, _ = precision_recall_fscore_support(all_labels, all_preds, average='weighted')\n",
        "\n",
        "    print(f\"\\nTest Accuracy: {accuracy * 100:.2f}%\")\n",
        "    print(f\"Precision: {precision:.4f}\")\n",
        "    print(f\"Recall: {recall:.4f}\")\n",
        "    print(f\"F1-score: {f1:.4f}\")\n",
        "\n",
        "evaluate_model(model, test_loader)"
      ],
      "metadata": {
        "colab": {
          "base_uri": "https://localhost:8080/"
        },
        "id": "NiWsfwl3wYAy",
        "outputId": "2a140cc0-1965-455b-af20-da258e6e3254"
      },
      "execution_count": 28,
      "outputs": [
        {
          "output_type": "stream",
          "name": "stdout",
          "text": [
            "\n",
            "Test Accuracy: 90.29%\n",
            "Precision: 0.9023\n",
            "Recall: 0.9029\n",
            "F1-score: 0.9023\n"
          ]
        }
      ]
    }
  ]
}